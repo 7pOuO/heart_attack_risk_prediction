{
 "cells": [
  {
   "cell_type": "markdown",
   "id": "4b980d3c",
   "metadata": {},
   "source": [
    "import區"
   ]
  },
  {
   "cell_type": "code",
   "execution_count": 5,
   "id": "d82a9921",
   "metadata": {},
   "outputs": [],
   "source": [
    "# 基本處理與警告設定\n",
    "import numpy as np\n",
    "import pandas as pd\n",
    "import warnings\n",
    "warnings.filterwarnings(\"ignore\")\n",
    "\n",
    "# 繪圖與視覺化\n",
    "import matplotlib.pyplot as plt\n",
    "import seaborn as sns\n",
    "\n",
    "# 資料前處理\n",
    "from sklearn.preprocessing import LabelEncoder, MinMaxScaler, StandardScaler\n",
    "from sklearn.model_selection import train_test_split, GridSearchCV, RandomizedSearchCV\n",
    "from imblearn.over_sampling import SMOTE\n",
    "from imblearn.combine import SMOTETomek\n",
    "\n",
    "# 模型與評估\n",
    "from sklearn.ensemble import RandomForestClassifier\n",
    "from xgboost import XGBClassifier\n",
    "from sklearn.metrics import (\n",
    "    accuracy_score,\n",
    "    classification_report,\n",
    "    confusion_matrix,\n",
    "    precision_recall_curve,\n",
    "    average_precision_score,\n",
    "    f1_score\n",
    ")\n",
    "from sklearn.inspection import permutation_importance\n",
    "\n",
    "# SHAP 模型解釋\n",
    "import shap\n",
    "from shap import TreeExplainer"
   ]
  },
  {
   "cell_type": "markdown",
   "id": "7a055809",
   "metadata": {},
   "source": [
    "讀取資料"
   ]
  },
  {
   "cell_type": "code",
   "execution_count": 6,
   "id": "d808e4a0",
   "metadata": {},
   "outputs": [],
   "source": [
    "# === Step 1: 載入資料 ===\n",
    "df = pd.read_csv(\"heart-attack-risk-prediction-dataset.csv\")\n",
    "\n",
    "# === Step 2: 缺失值填補 ===\n",
    "for column in df.columns:\n",
    "    if df[column].dtype == 'object':\n",
    "        df[column] = df[column].fillna(df[column].mode()[0])\n",
    "    else:\n",
    "        df[column] = df[column].fillna(df[column].median())\n",
    "\n",
    "# === Step 3: 類別資料處理（Gender）===\n",
    "# 將 Gender 統一轉成 Male/Female 字串後再轉 Label\n",
    "df[\"Gender\"] = df[\"Gender\"].replace({\"1.0\": \"Male\", 1.0: \"Male\", \"0.0\": \"Female\", 0.0: \"Female\"})\n",
    "le = LabelEncoder()\n",
    "df[\"Gender\"] = le.fit_transform(df[\"Gender\"])  # Male=1, Female=0\n",
    "\n",
    "# === Step 4: 目標變數與欄位過濾 ===\n",
    "target_column = \"Heart Attack Risk (Binary)\"\n",
    "if target_column not in df.columns:\n",
    "    raise KeyError(f\"Target column '{target_column}' not found in dataset.\")\n",
    "\n",
    "# 移除不需要的欄位\n",
    "drop_cols = [\n",
    "    'Heart Attack Risk (Binary)', 'Heart Attack Risk (Text)',\n",
    "    'Cholesterol', 'Triglycerides', 'CK-MB', 'Troponin',\n",
    "    'Diastolic blood pressure'\n",
    "]\n",
    "X = df.drop(columns=drop_cols)\n",
    "y = df[target_column]\n",
    "feature_names = X.columns.tolist()\n"
   ]
  },
  {
   "cell_type": "markdown",
   "id": "f57c8216",
   "metadata": {},
   "source": [
    "資料切分"
   ]
  },
  {
   "cell_type": "code",
   "execution_count": 7,
   "id": "ffb92e67",
   "metadata": {},
   "outputs": [
    {
     "name": "stdout",
     "output_type": "stream",
     "text": [
      "最終使用的特徵欄位：\n",
      " 1. Age\n",
      " 2. Heart rate\n",
      " 3. Diabetes\n",
      " 4. Family History\n",
      " 5. Smoking\n",
      " 6. Obesity\n",
      " 7. Alcohol Consumption\n",
      " 8. Exercise Hours Per Week\n",
      " 9. Diet\n",
      "10. Previous Heart Problems\n",
      "11. Medication Use\n",
      "12. Stress Level\n",
      "13. Sedentary Hours Per Day\n",
      "14. Income\n",
      "15. BMI\n",
      "16. Physical Activity Days Per Week\n",
      "17. Sleep Hours Per Day\n",
      "18. Blood sugar\n",
      "19. Gender\n",
      "20. Systolic blood pressure\n"
     ]
    }
   ],
   "source": [
    "# === Step 5: 資料切分 ===\n",
    "random_state = 42\n",
    "X_train, X_test, y_train, y_test = train_test_split(\n",
    "    X, y, test_size=0.1, random_state=random_state, stratify=y\n",
    ")\n",
    "\n",
    "# === Step 6: SMOTETomek 平衡資料 ===\n",
    "smote_tomek = SMOTETomek(random_state=random_state)\n",
    "X_train, y_train = smote_tomek.fit_resample(X_train, y_train)\n",
    "\n",
    "# === Step 7: 顯示最終特徵 ===\n",
    "print(\"最終使用的特徵欄位：\")\n",
    "for i, col in enumerate(feature_names, 1):\n",
    "    print(f\"{i:>2}. {col}\")"
   ]
  },
  {
   "cell_type": "markdown",
   "id": "21f67e28",
   "metadata": {},
   "source": [
    "訓練"
   ]
  },
  {
   "cell_type": "code",
   "execution_count": 8,
   "id": "f2e96497",
   "metadata": {},
   "outputs": [
    {
     "name": "stdout",
     "output_type": "stream",
     "text": [
      "F1-score: 0.5399828030954428\n",
      "Classification Report:\n",
      "               precision    recall  f1-score   support\n",
      "\n",
      "         0.0       0.86      0.18      0.30       633\n",
      "         1.0       0.38      0.94      0.54       333\n",
      "\n",
      "    accuracy                           0.45       966\n",
      "   macro avg       0.62      0.56      0.42       966\n",
      "weighted avg       0.69      0.45      0.39       966\n",
      "\n",
      "Average Precision (PR AUC): 0.48162327023412094\n"
     ]
    }
   ],
   "source": [
    "rf = RandomForestClassifier(\n",
    "    n_estimators=150,\n",
    "    random_state=random_state,\n",
    "    max_depth=None,\n",
    "    bootstrap=False,\n",
    ")\n",
    "rf.fit(X_train, y_train)\n",
    "\n",
    "y_proba_rf = rf.predict_proba(X_test)[:, 1]\n",
    "\n",
    "y_pred_rf = (y_proba_rf >= 0.27).astype(int)\n",
    "\n",
    "print(\"F1-score:\", f1_score(y_test, y_pred_rf))\n",
    "print(\"Classification Report:\\n\", classification_report(y_test, y_pred_rf))\n",
    "\n",
    "# Average Precision (PR AUC)\n",
    "ap_score = average_precision_score(y_test, y_proba_rf)\n",
    "print(\"Average Precision (PR AUC):\", ap_score)"
   ]
  },
  {
   "cell_type": "markdown",
   "id": "82d6450c",
   "metadata": {},
   "source": [
    "輸出SHAP"
   ]
  },
  {
   "cell_type": "code",
   "execution_count": null,
   "id": "eb66f6d9",
   "metadata": {},
   "outputs": [
    {
     "name": "stdout",
     "output_type": "stream",
     "text": [
      "第 848 筆預測： 0.0\n",
      "實際標籤： 1.0\n"
     ]
    },
    {
     "data": {
      "text/plain": [
       "Age                                0.674157\n",
       "Heart rate                         0.025665\n",
       "Diabetes                           1.000000\n",
       "Family History                     1.000000\n",
       "Smoking                            1.000000\n",
       "Obesity                            1.000000\n",
       "Alcohol Consumption                1.000000\n",
       "Exercise Hours Per Week            0.818964\n",
       "Diet                               1.000000\n",
       "Previous Heart Problems            0.000000\n",
       "Medication Use                     1.000000\n",
       "Stress Level                       5.000000\n",
       "Sedentary Hours Per Day            0.701850\n",
       "Income                             0.799905\n",
       "BMI                                0.809857\n",
       "Physical Activity Days Per Week    1.000000\n",
       "Sleep Hours Per Day                1.000000\n",
       "Blood sugar                        0.227018\n",
       "Gender                             1.000000\n",
       "Systolic blood pressure            0.645161\n",
       "Name: 2674, dtype: float64"
      ]
     },
     "metadata": {},
     "output_type": "display_data"
    },
    {
     "data": {
      "image/png": "[encoded data removed]",
      "text/plain": [
       "<Figure size 800x650 with 1 Axes>"
      ]
     },
     "metadata": {},
     "output_type": "display_data"
    },
    {
     "name": "stdout",
     "output_type": "stream",
     "text": [
      "<class 'shap._explanation.Explanation'>\n",
      ".values =\n",
      "array([[ 0.11910973, -0.11910973],\n",
      "       [ 0.00262223, -0.00262223],\n",
      "       [-0.00562906,  0.00562906],\n",
      "       [-0.00813774,  0.00813774],\n",
      "       [ 0.00126068, -0.00126068],\n",
      "       [ 0.00490211, -0.00490211],\n",
      "       [ 0.00988145, -0.00988145],\n",
      "       [ 0.00349668, -0.00349668],\n",
      "       [-0.01619499,  0.01619499],\n",
      "       [ 0.00515036, -0.00515036],\n",
      "       [ 0.00487547, -0.00487547],\n",
      "       [-0.00881716,  0.00881716],\n",
      "       [-0.00743033,  0.00743033],\n",
      "       [ 0.01648062, -0.01648062],\n",
      "       [-0.02691881,  0.02691881],\n",
      "       [ 0.01099805, -0.01099805],\n",
      "       [-0.01253094,  0.01253094],\n",
      "       [ 0.00509299, -0.00509299],\n",
      "       [ 0.00615251, -0.00615251],\n",
      "       [ 0.00624555, -0.00624555]])\n",
      "\n",
      ".base_values =\n",
      "np.float64(0.5006093979441995)\n",
      "\n",
      ".data =\n",
      "Age                                0.674157\n",
      "Heart rate                         0.025665\n",
      "Diabetes                           1.000000\n",
      "Family History                     1.000000\n",
      "Smoking                            1.000000\n",
      "Obesity                            1.000000\n",
      "Alcohol Consumption                1.000000\n",
      "Exercise Hours Per Week            0.818964\n",
      "Diet                               1.000000\n",
      "Previous Heart Problems            0.000000\n",
      "Medication Use                     1.000000\n",
      "Stress Level                       5.000000\n",
      "Sedentary Hours Per Day            0.701850\n",
      "Income                             0.799905\n",
      "BMI                                0.809857\n",
      "Physical Activity Days Per Week    1.000000\n",
      "Sleep Hours Per Day                1.000000\n",
      "Blood sugar                        0.227018\n",
      "Gender                             1.000000\n",
      "Systolic blood pressure            0.645161\n",
      "Name: 2674, dtype: float64\n"
     ]
    }
   ],
   "source": [
    "import shap\n",
    "import random\n",
    "from sklearn.ensemble import RandomForestClassifier\n",
    "\n",
    "# 訓練模型\n",
    "rf = RandomForestClassifier(random_state=42)\n",
    "rf.fit(X_train, y_train)\n",
    "\n",
    "# 建立 TreeExplainer 並取得 SHAP 值（分類模型會回傳 list）\n",
    "explainer = shap.TreeExplainer(rf)\n",
    "shap_values = explainer.shap_values(X_test)\n",
    "\n",
    "# 隨機選一筆測試資料\n",
    "random_index = random.randint(0, X_test.shape[0] - 1)\n",
    "\n",
    "# 顯示預測與真實標籤\n",
    "print(f\"第 {random_index} 筆預測：\", rf.predict(X_test.iloc[[random_index]])[0])\n",
    "print(\"實際標籤：\", y_test.iloc[random_index])\n",
    "display(X_test.iloc[random_index])\n",
    "\n",
    "# 針對 class=1 的 SHAP 解釋\n",
    "explanation = shap.Explanation(\n",
    "    values=shap_values[random_index + 1],\n",
    "    base_values=explainer.expected_value[1],\n",
    "    data=X_test.iloc[random_index],\n",
    "    feature_names=X_test.columns\n",
    ")\n",
    "# class 1 的貢獻值（shape: (n_features,)）\n",
    "class1_shap = explanation.values[:, 1]  # ← 手動抽取 class=1\n",
    "\n",
    "# 建立新的 Explanation 給 bar plot 用\n",
    "single_class_explanation = shap.Explanation(\n",
    "    values=class1_shap,\n",
    "    base_values=explanation.base_values,\n",
    "    data=explanation.data,\n",
    "    feature_names=explanation.feature_names\n",
    ")\n",
    "\n",
    "# 顯示 bar 圖\n",
    "shap.plots.bar(single_class_explanation)\n",
    "#print(type(explanation))\n",
    "#print(explanation)\n"
   ]
  },
  {
   "cell_type": "markdown",
   "id": "4f09c75b",
   "metadata": {},
   "source": [
    "建議輸出"
   ]
  },
  {
   "cell_type": "code",
   "execution_count": 35,
   "id": "187fc240",
   "metadata": {},
   "outputs": [
    {
     "name": "stdout",
     "output_type": "stream",
     "text": [
      "\n",
      "Key Contributing Factors and Improvement Suggestions:\n",
      "BMI: Weight reduction needed through diet and exercise\n",
      "Diet: Emphasize whole grains, vegetables, lean proteins; avoid processed foods\n",
      "Sleep Hours Per Day: Recommend increasing to 7-9 hours\n"
     ]
    }
   ],
   "source": [
    "# 提取 class=1 的 SHAP 值向量\n",
    "shap_row = shap_values[random_index + 1]\n",
    "\n",
    "\"\"\"\n",
    "print(X_test.columns)\n",
    "print(shap_row)\n",
    "print(X_test.iloc[random_index].values)\n",
    "\"\"\"\n",
    "\n",
    "# 建立對應資料表\n",
    "shap_values_class1 = explanation.values[:, 1]  # 取第 2 欄 (class=1)\n",
    "feature_values = explanation.data  # 實際數值\n",
    "feature_names = explanation.feature_names  # 特徵名稱\n",
    "\n",
    "shap_df = pd.DataFrame({\n",
    "    'feature': feature_names,\n",
    "    'shap_value': shap_values_class1,\n",
    "    'feature_value': feature_values\n",
    "})\n",
    "\n",
    "\n",
    "\n",
    "# 找出正貢獻最大前三名\n",
    "top_positive = shap_df[shap_df['shap_value'] > 0].sort_values(by='shap_value', ascending=False).head(3)\n",
    "\n",
    "# 顯示改善建議\n",
    "print(\"\\nKey Contributing Factors and Improvement Suggestions:\")\n",
    "for _, row in top_positive.iterrows():\n",
    "    feature = row['feature']\n",
    "    value = row['feature_value']\n",
    "\n",
    "    if feature == 'Age':\n",
    "        print(\"Age: Regular heart health check-ups\")\n",
    "    elif feature == 'Systolic blood pressure':\n",
    "        print(\"Systolic Blood Pressure: Medical consultation recommended\")\n",
    "    elif feature == 'Diastolic blood pressure':\n",
    "        print(\"Diastolic Blood Pressure: Medical consultation recommended\")\n",
    "    elif feature == 'Blood sugar':\n",
    "        print(\"Blood Sugar: Control sugar intake, increase dietary fiber, regularly monitor blood sugar levels\")\n",
    "    elif feature == 'Stress Level':\n",
    "        print(\"Stress Level: Practice meditation, deep breathing, ensure sufficient sleep\")\n",
    "    elif feature == 'BMI':\n",
    "        print(\"BMI: Weight reduction needed through diet and exercise\")\n",
    "    elif feature == 'Exercise Hours Per Week':\n",
    "        print(\"Exercise Hours Per Week: Recommend increasing to at least 150 minutes of moderate-intensity exercise\")\n",
    "    elif feature == 'Sleep Hours Per Day':\n",
    "        print(\"Sleep Hours Per Day: Recommend increasing to 7-9 hours\")\n",
    "    elif feature == 'Smoking':\n",
    "        print(\"Smoking: Strongly advise quitting smoking\")\n",
    "    elif feature == 'Alcohol Consumption':\n",
    "        print(\"Alcohol Consumption: Limit alcohol intake\")\n",
    "    elif feature == 'Sedentary Hours Per Day':\n",
    "        print(\"Sedentary Hours Per Day: Stand up and move for 2-3 minutes every hour\")\n",
    "    elif feature == 'Previous Heart Problems':\n",
    "        print(\"Previous Heart Problems: Regular follow-ups and medication adherence\")\n",
    "    elif feature == 'Heart rate':\n",
    "        print(\"Heart Rate: Monitor for irregularities, maintain cardiovascular fitness\")\n",
    "    elif feature == 'Diabetes':\n",
    "        print(\"Diabetes: Maintain proper glucose control, follow dietary and medication plans\")\n",
    "    elif feature == 'Family History':\n",
    "        print(\"Family History: Genetic risk present; prioritize preventive care and regular screening\")\n",
    "    elif feature == 'Obesity':\n",
    "        print(\"Obesity: Recommend a calorie-controlled diet and regular physical activity\")\n",
    "    elif feature == 'Diet':\n",
    "        print(\"Diet: Emphasize whole grains, vegetables, lean proteins; avoid processed foods\")\n",
    "    elif feature == 'Medication Use':\n",
    "        print(\"Medication Use: Ensure adherence to prescribed medications and follow-up with physician\")\n",
    "    elif feature == 'Income':\n",
    "        print(\"Income: Consider financial stress impact; seek affordable preventive care options\")\n",
    "    elif feature == 'Physical Activity Days Per Week':\n",
    "        print(\"Physical Activity Days Per Week: Aim for at least 5 active days per week\")"
   ]
  }
 ],
 "metadata": {
  "kernelspec": {
   "display_name": "Python 3",
   "language": "python",
   "name": "python3"
  },
  "language_info": {
   "codemirror_mode": {
    "name": "ipython",
    "version": 3
   },
   "file_extension": ".py",
   "mimetype": "text/x-python",
   "name": "python",
   "nbconvert_exporter": "python",
   "pygments_lexer": "ipython3",
   "version": "3.10.11"
  }
 },
 "nbformat": 4,
 "nbformat_minor": 5
}
